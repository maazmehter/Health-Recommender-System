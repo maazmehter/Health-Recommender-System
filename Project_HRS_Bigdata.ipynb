{
 "cells": [
  {
   "cell_type": "code",
   "execution_count": null,
   "metadata": {},
   "outputs": [],
   "source": [
    "# importing required packages and libs\n",
    "from sklearn.preprocessing import StandardScaler\n",
    "from sklearn.naive_bayes import GaussianNB\n",
    "import findspark\n",
    "findspark.init()\n",
    "from pyspark.mllib.recommendation import ALS, MatrixFactorizationModel, Rating\n",
    "from pyspark.sql import SQLContext, Row\n",
    "from pyspark import SparkContext, SparkConf\n",
    "sc = SparkContext('local','finalproj')\n",
    "sqlContext = SQLContext(sc)\n",
    "from pyspark.ml.evaluation import RegressionEvaluator\n",
    "from pyspark.ml.tuning import ParamGridBuilder, CrossValidator\n",
    "from pyspark.ml.recommendation import ALS\n",
    "from pyspark.sql.functions import col, explode, collect_list\n",
    "from pyspark.sql.types import IntegerType\n",
    "import pandas as pd\n",
    "from sklearn.model_selection import train_test_split\n",
    "from sklearn.metrics import accuracy_score"
   ]
  },
  {
   "cell_type": "code",
   "execution_count": null,
   "metadata": {},
   "outputs": [],
   "source": [
    "# predicting values with naive bayes model\n",
    "data = pd.read_csv(r'C:\\Users\\joshm\\Downloads\\Data.csv')\n",
    "trainbayes = data[['Blurred Vision', 'Casual Glucose Tolerance']]\n",
    "testbayes = data['Diabetic']\n",
    "X_train, X_test, y_train, y_test = train_test_split(trainbayes, testbayes, test_size = 0.3, random_state = 0)\n",
    "gnb = GaussianNB()\n",
    "gnb.fit(X_train, y_train)\n",
    "y_pred = gnb.predict(X_test)\n",
    "print('Model accuracy score: {0:0.4f}'. format(accuracy_score(y_test, y_pred))) #86.83"
   ]
  },
  {
   "cell_type": "code",
   "execution_count": null,
   "metadata": {},
   "outputs": [],
   "source": [
    "# building a recommendation using collaborative filtering and ALS.\n",
    "dataset = sc.textFile(r'C:\\Users\\joshm\\Downloads\\Data.csv')\n",
    "data = dataset.map(lambda l: (l.split(',')[0],l.split(',')[17],l.split(',')[20]))\n",
    "header = data.first()\n",
    "rows = data.filter(lambda line: line != header)\n",
    "row_rdd = rows.map(lambda w: Row(User=w[0], Glucoselevel=w[1], Reco=w[2]))\n",
    "alsdf = sqlContext.createDataFrame(row_rdd)\n",
    "alsdf = alsdf.withColumn(\"User\",alsdf[\"User\"].cast(IntegerType())) \\\n",
    "    .withColumn(\"Glucoselevel\",alsdf[\"Glucoselevel\"].cast(IntegerType())) \\\n",
    "    .withColumn(\"Reco\",alsdf[\"Reco\"].cast(IntegerType()))"
   ]
  },
  {
   "cell_type": "code",
   "execution_count": null,
   "metadata": {},
   "outputs": [],
   "source": [
    "# train the als model and fit it and evaluate the rmse. \n",
    "train, test = alsdf.randomSplit([0.8, 0.2], seed = 43)\n",
    "als = ALS(userCol=\"User\", itemCol=\"Reco\", ratingCol=\"Glucoselevel\",rank =10, maxIter =15, regParam =.1, coldStartStrategy=\"drop\", nonnegative = True, implicitPrefs = False)\n",
    "modelactual = als.fit(train)\n",
    "test_predictions = modelactual.transform(test)\n",
    "evaluator = RegressionEvaluator(metricName=\"rmse\", labelCol=\"Glucoselevel\",predictionCol=\"prediction\")\n",
    "RMSEactual = evaluator.evaluate(test_predictions)\n",
    "print(RMSEactual) #89.55"
   ]
  },
  {
   "cell_type": "code",
   "execution_count": null,
   "metadata": {},
   "outputs": [],
   "source": [
    "# generate recommendation for diabetes patients based on set of recommendations from previous records\n",
    "recommended = modelactual.recommendForAllUsers(10)\n",
    "recommendsplit = recommended.withColumn(\"recommendations\", explode(\"recommendations\")).select(\"*\",col(\"recommendations.*\"))\n",
    "df = recommendsplit.select(\"User\",\"Reco\")\n",
    "dffinal= df.groupBy(col(\"User\")).agg(collect_list(col(\"Reco\")))\n",
    "dffinal.toPandas().to_csv(r'C:\\Users\\joshm\\Downloads\\recomm.csv',index = False)"
   ]
  }
 ],
 "metadata": {
  "kernelspec": {
   "display_name": "Python 3",
   "language": "python",
   "name": "python3"
  },
  "language_info": {
   "codemirror_mode": {
    "name": "ipython",
    "version": 3
   },
   "file_extension": ".py",
   "mimetype": "text/x-python",
   "name": "python",
   "nbconvert_exporter": "python",
   "pygments_lexer": "ipython3",
   "version": "3.8.3"
  }
 },
 "nbformat": 4,
 "nbformat_minor": 4
}
